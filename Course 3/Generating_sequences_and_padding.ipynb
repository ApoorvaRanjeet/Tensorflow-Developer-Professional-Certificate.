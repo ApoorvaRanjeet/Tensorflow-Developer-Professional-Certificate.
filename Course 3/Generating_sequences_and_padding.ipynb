{
  "nbformat": 4,
  "nbformat_minor": 0,
  "metadata": {
    "colab": {
      "provenance": []
    },
    "kernelspec": {
      "name": "python3",
      "display_name": "Python 3"
    },
    "language_info": {
      "name": "python"
    }
  },
  "cells": [
    {
      "cell_type": "markdown",
      "source": [
        "Text to Sequences"
      ],
      "metadata": {
        "id": "50OBBJwg1nHR"
      }
    },
    {
      "cell_type": "code",
      "source": [
        "from tensorflow.keras.preprocessing.text import Tokenizer\n",
        "from tensorflow.keras.preprocessing.sequence import pad_sequences"
      ],
      "metadata": {
        "id": "fajiGnF-1qwG"
      },
      "execution_count": 1,
      "outputs": []
    },
    {
      "cell_type": "code",
      "source": [
        "# define your inputs\n",
        "sentences =[\n",
        "    'I love dogs',\n",
        "    'Nature is beautiful',\n",
        "    'I love nature! '\n",
        "]\n",
        "#Initialize the tokenizer\n",
        "tokenizer = Tokenizer(num_words=100,oov_token='<OOV>')\n",
        "\n",
        "#Tokenize the input sentences \n",
        "tokenizer.fit_on_texts(sentences)\n",
        "\n",
        "#get the word_index dictionary\n",
        "word_index = tokenizer.word_index\n",
        "\n",
        "#generate token sequences\n",
        "sequences = tokenizer.texts_to_sequences(sentences)\n",
        "\n",
        "# Print the result\n",
        "print(\"\\nWord Index = \" , word_index)\n",
        "print(\"\\nSequences = \" , sequences)"
      ],
      "metadata": {
        "colab": {
          "base_uri": "https://localhost:8080/"
        },
        "id": "99KVK7to2LBf",
        "outputId": "1d0da7ac-cf48-4acb-88d2-eecf9013ba57"
      },
      "execution_count": 2,
      "outputs": [
        {
          "output_type": "stream",
          "name": "stdout",
          "text": [
            "\n",
            "Word Index =  {'<OOV>': 1, 'i': 2, 'love': 3, 'nature': 4, 'dogs': 5, 'is': 6, 'beautiful': 7}\n",
            "\n",
            "Sequences =  [[2, 3, 5], [4, 6, 7], [2, 3, 4]]\n"
          ]
        }
      ]
    },
    {
      "cell_type": "markdown",
      "source": [
        "Padding "
      ],
      "metadata": {
        "id": "a15nR5olm3-a"
      }
    },
    {
      "cell_type": "code",
      "source": [
        "#pad the sequence to uniform length\n",
        "padded = pad_sequences(sequences,maxlen=5)\n",
        "# Print the result\n",
        "print(\"\\nPadded Sequences:\")\n",
        "print(padded)"
      ],
      "metadata": {
        "colab": {
          "base_uri": "https://localhost:8080/"
        },
        "id": "RqFTRdM7m5mE",
        "outputId": "bfc5f594-86f8-4cbc-fee3-7fff2284efd7"
      },
      "execution_count": 3,
      "outputs": [
        {
          "output_type": "stream",
          "name": "stdout",
          "text": [
            "\n",
            "Padded Sequences:\n",
            "[[0 0 2 3 5]\n",
            " [0 0 4 6 7]\n",
            " [0 0 2 3 4]]\n"
          ]
        }
      ]
    },
    {
      "cell_type": "markdown",
      "source": [
        "Out of The vocabulary Tokens"
      ],
      "metadata": {
        "id": "H17QhIWMnWf-"
      }
    },
    {
      "cell_type": "code",
      "source": [
        "test_data = [\n",
        "    'i really love my dog',\n",
        "    'my dog loves my manatee'\n",
        "]\n",
        "\n",
        "# Generate the sequences\n",
        "test_seq = tokenizer.texts_to_sequences(test_data)\n",
        "\n",
        "# Print the word index dictionary\n",
        "print(\"\\nWord Index = \" , word_index)\n",
        "\n",
        "# Print the sequences with OOV\n",
        "print(\"\\nTest Sequence = \", test_seq)\n",
        "\n",
        "# Print the padded result\n",
        "padded = pad_sequences(test_seq, maxlen=10)\n",
        "print(\"\\nPadded Test Sequence: \")\n",
        "print(padded)"
      ],
      "metadata": {
        "colab": {
          "base_uri": "https://localhost:8080/"
        },
        "id": "BaDuzIF3nZRj",
        "outputId": "0f3c6627-b13f-471e-a949-6b079a71772e"
      },
      "execution_count": 4,
      "outputs": [
        {
          "output_type": "stream",
          "name": "stdout",
          "text": [
            "\n",
            "Word Index =  {'<OOV>': 1, 'i': 2, 'love': 3, 'nature': 4, 'dogs': 5, 'is': 6, 'beautiful': 7}\n",
            "\n",
            "Test Sequence =  [[2, 1, 3, 1, 1], [1, 1, 1, 1, 1]]\n",
            "\n",
            "Padded Test Sequence: \n",
            "[[0 0 0 0 0 2 1 3 1 1]\n",
            " [0 0 0 0 0 1 1 1 1 1]]\n"
          ]
        }
      ]
    }
  ]
}